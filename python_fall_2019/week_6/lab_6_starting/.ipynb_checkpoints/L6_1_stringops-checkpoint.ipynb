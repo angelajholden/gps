{
 "cells": [
  {
   "cell_type": "markdown",
   "metadata": {
    "collapsed": true
   },
   "source": [
    "**[L6-2]** (`L6_1_stringops.ipynb`) Complete the provided starting code, which reads a string method name from the user console, then calls a function that demonstrates how this string method works.\n",
    "\n",
    "Do the following by working your way down this page, adding and modifying code in each of the IPython command line areas, starting with `In[]` before they've been evaluated, then as `In[3]` if it's the third evaluated expression within the page, and so forth.\n",
    "\n",
    "Some of the following functions are provided, and others must be completed...."
   ]
  },
  {
   "cell_type": "markdown",
   "metadata": {
    "collapsed": true
   },
   "source": [
    "Here's a compact function that returns a formatted string that describes the result of invoking `method` against object ref `obj`, yielding `result`: `obj.method -> result`"
   ]
  },
  {
   "cell_type": "code",
   "execution_count": null,
   "metadata": {},
   "outputs": [],
   "source": [
    "def call_and_report_no_args(obj,method,result):\n",
    "    '''\n",
    "    Returns string: obj.method()->result\n",
    "    (Used to display string methods in below)\n",
    "    '''\n",
    "    return \"'{}'.{}() -> '{}'\".format(obj, method, result)"
   ]
  },
  {
   "cell_type": "markdown",
   "metadata": {},
   "source": [
    "Try calling the above, passing different strings as `obj`, different method names as `method`, and the result as `obj.method()`:"
   ]
  },
  {
   "cell_type": "code",
   "execution_count": null,
   "metadata": {},
   "outputs": [],
   "source": [
    "# Demo the string method 'upper', calling it against\n",
    "print (call_and_report_no_args('test','upper','test'.upper()))"
   ]
  },
  {
   "cell_type": "markdown",
   "metadata": {
    "collapsed": true
   },
   "source": [
    "Each of the following functions is passed a string `obj`, then calls the appropriate string (str) method against `obj`, then reporting the result by using `call_and_report_no_args(...)`as defined above.\n",
    "\n",
    "The first is done for you.  Complete the rest!"
   ]
  },
  {
   "cell_type": "code",
   "execution_count": null,
   "metadata": {},
   "outputs": [],
   "source": [
    "# Demo string method 'obj.upper()':\n",
    "#  Creates a new upper-cased string from obj\n",
    "\n",
    "# This version shows how to do complex formatting using str.format()\n",
    "\n",
    "def demo_upper(obj):\n",
    "    result = obj.upper()\n",
    "    to_display = \"'{}'.{}() -> '{}'\".format(obj, \"upper\", result)\n",
    "    print (to_display) # Not a fruitful function. Should it be?"
   ]
  },
  {
   "cell_type": "markdown",
   "metadata": {},
   "source": [
    "Run the following demo and view the output. Then try modifying the argument and running it several times:"
   ]
  },
  {
   "cell_type": "code",
   "execution_count": null,
   "metadata": {},
   "outputs": [],
   "source": [
    "to_demo = input(\"Enter a string to upper-case: \")\n",
    "demo_upper(to_demo)"
   ]
  },
  {
   "cell_type": "code",
   "execution_count": null,
   "metadata": {},
   "outputs": [],
   "source": [
    "# Demo string method 'obj.upper()':\n",
    "#  Creates a new upper-cased string from obj\n",
    "# \n",
    "# This version uses the previously-defined call_and_report_no_args() \n",
    "#  (easier to understand, isn't it?)\n",
    "\n",
    "def demo_upper(obj): # this *redefines* the previous function def\n",
    "    result = obj.upper()\n",
    "    to_display = call_and_report_no_args(obj, \"upper\", result)\n",
    "    print ('\\n', to_display)"
   ]
  },
  {
   "cell_type": "code",
   "execution_count": null,
   "metadata": {},
   "outputs": [],
   "source": [
    "# Now demo_upper() references the immediately-previous cell def\n",
    "\n",
    "demo_upper('belltower')"
   ]
  },
  {
   "cell_type": "code",
   "execution_count": null,
   "metadata": {},
   "outputs": [],
   "source": [
    "# Demo string method 'obj.lower()':\n",
    "#  Creates a new lower-cased string from obj\n",
    "\n",
    "def demo_lower(obj):\n",
    "    pass # finish this"
   ]
  },
  {
   "cell_type": "code",
   "execution_count": null,
   "metadata": {},
   "outputs": [],
   "source": [
    "# Test your demo_lower(obj) here...."
   ]
  },
  {
   "cell_type": "code",
   "execution_count": null,
   "metadata": {},
   "outputs": [],
   "source": [
    "# Demo string method 'obj.capitalize()':\n",
    "#  Creates a new string having first obj char capitalized,\n",
    "#  with rest lower-cased\n",
    "\n",
    "def demo_capitalize(obj):\n",
    "    pass # finish this"
   ]
  },
  {
   "cell_type": "code",
   "execution_count": null,
   "metadata": {},
   "outputs": [],
   "source": [
    "# Test your demo_capitalize(obj) here...."
   ]
  },
  {
   "cell_type": "code",
   "execution_count": null,
   "metadata": {},
   "outputs": [],
   "source": [
    "# Demo string method 'obj.strip()':\n",
    "#  Creates a new string by removing both leading, trailing whitespace\n",
    "\n",
    "def demo_strip(obj):\n",
    "    pass # finish this"
   ]
  },
  {
   "cell_type": "code",
   "execution_count": null,
   "metadata": {},
   "outputs": [],
   "source": [
    "# Test your demo_strip(obj) here...."
   ]
  },
  {
   "cell_type": "markdown",
   "metadata": {},
   "source": [
    "So far, we've worked with string methods having NO arguments. The following helper function `get_arg(prompt)` is used when showing methods requiring other arguments."
   ]
  },
  {
   "cell_type": "code",
   "execution_count": null,
   "metadata": {},
   "outputs": [],
   "source": [
    "# Prompts user to enter an argument, then returns it\n",
    "\n",
    "def get_arg(prompt):\n",
    "    return input(prompt+' ')"
   ]
  },
  {
   "cell_type": "markdown",
   "metadata": {},
   "source": [
    "Try it!"
   ]
  },
  {
   "cell_type": "code",
   "execution_count": null,
   "metadata": {},
   "outputs": [],
   "source": [
    "# Test your get_arg(prompt) here...\n",
    "\n",
    "get_arg(\"Enter item to count:\")"
   ]
  },
  {
   "cell_type": "markdown",
   "metadata": {},
   "source": [
    "Now we use `get_arg(str)` to demo string methods with one or more args,\n",
    "by using it within a new reporting method:"
   ]
  },
  {
   "cell_type": "code",
   "execution_count": null,
   "metadata": {},
   "outputs": [],
   "source": [
    "def call_and_report_1_arg(obj,method,arg,result):\n",
    "      '''\n",
    "    Returns string: obj.method(arg)->result\n",
    "    (Used to display string methods in below)\n",
    "    '''\n",
    "pass # finish this (try modifying call_and_report_no_args())"
   ]
  },
  {
   "cell_type": "code",
   "execution_count": null,
   "metadata": {},
   "outputs": [],
   "source": [
    "# Demo string method 'obj.count(item)':\n",
    "#   Returns int count of item within obj\n",
    "\n",
    "def demo_count(obj):\n",
    "    \n",
    "# Read item using get_arg(prompt):\n",
    "#   item = get_arg(\"Enter item to count: \")\n",
    "\n",
    "# Then format results using:\n",
    "#    call_and_report_1_arg(obj,'count',item,result):\n",
    "\n",
    "# Define this new function yourself: starting code in previous cell\n",
    "\n",
    "# Hint: imitate call_and_report_no_args(obj,method,result)\n",
    "\n",
    "    pass # finish this"
   ]
  },
  {
   "cell_type": "code",
   "execution_count": null,
   "metadata": {},
   "outputs": [],
   "source": [
    "# Test your demo_count(obj) here...."
   ]
  },
  {
   "cell_type": "code",
   "execution_count": null,
   "metadata": {},
   "outputs": [],
   "source": [
    "# Demo string method 'obj.center(width)':\n",
    "#   Returns string obj centered in a field of int width spaces\n",
    "\n",
    "def demo_center(obj):\n",
    "# Read width arg with get_arg(prompt) then cast to int:\n",
    "\n",
    "#      width = int(get_arg(\"Enter width of field:\"))\n",
    "\n",
    "    pass # finish this"
   ]
  },
  {
   "cell_type": "code",
   "execution_count": null,
   "metadata": {},
   "outputs": [],
   "source": [
    "# Test your demo_center(obj) here...."
   ]
  },
  {
   "cell_type": "code",
   "execution_count": null,
   "metadata": {},
   "outputs": [],
   "source": [
    "# Demo string method 'obj.ljust(width)':\n",
    "#   Returns string obj left-justified in a field of int width spaces\n",
    "\n",
    "def demo_ljust(obj):\n",
    "# Read width as shown above in demo_center(obj) def\n",
    "    pass"
   ]
  },
  {
   "cell_type": "code",
   "execution_count": null,
   "metadata": {},
   "outputs": [],
   "source": [
    "# Test your demo_ljust(obj) here...."
   ]
  },
  {
   "cell_type": "code",
   "execution_count": null,
   "metadata": {},
   "outputs": [],
   "source": [
    "# Demo string method 'obj.find(item)':\n",
    "#   Returns the leftmost int index where the \n",
    "#   substring item begins within found, or -1 if not found\n",
    "\n",
    "def demo_find(arg):\n",
    "# Again: prompt user to enter item to find\n",
    "    pass"
   ]
  },
  {
   "cell_type": "code",
   "execution_count": null,
   "metadata": {},
   "outputs": [],
   "source": [
    "# Test your demo_find(obj) here...."
   ]
  },
  {
   "cell_type": "code",
   "execution_count": null,
   "metadata": {},
   "outputs": [],
   "source": [
    "# Demo string method 'obj.index(item)':\n",
    "#     Like find except causes a runtime error if item == not found\n",
    "\n",
    "def demo_index(arg):\n",
    "# Again: prompt to enter item to find\n",
    "    pass"
   ]
  },
  {
   "cell_type": "code",
   "execution_count": null,
   "metadata": {},
   "outputs": [],
   "source": [
    "# Test your demo_index(obj) here...."
   ]
  },
  {
   "cell_type": "markdown",
   "metadata": {},
   "source": [
    "Now we deal with string methods taking *two* arguments.  \n",
    "\n",
    "We'll need yet another helper function: `call_and_report_2_args(...)`"
   ]
  },
  {
   "cell_type": "code",
   "execution_count": null,
   "metadata": {},
   "outputs": [],
   "source": [
    "def call_and_report_2_args(obj,method,arg1,arg2,result):\n",
    "    '''\n",
    "    Returns string: obj.method(arg1,arg2)->result\n",
    "    (Used to display string methods in below)\n",
    "    '''\n",
    "    pass # finish this (try modifying call_and_report_no_args())"
   ]
  },
  {
   "cell_type": "code",
   "execution_count": null,
   "metadata": {},
   "outputs": [],
   "source": [
    "# Demo string method 'obj.replace(old,new)':\n",
    "#      Replaces all occurrences of old substring with new, \n",
    "#        creating and returning the resulting string\n",
    "\n",
    "def demo_replace(obj):\n",
    "    \n",
    "# You'll have to read *two* extra args + define an new function:\n",
    "#      call_and_report_2_args(obj,'replace',old,new,result)\n",
    "#      (complete the starting code above...)\n",
    "\n",
    "    pass # finish this after the above helper"
   ]
  },
  {
   "cell_type": "code",
   "execution_count": null,
   "metadata": {},
   "outputs": [],
   "source": [
    "# Test your demo_replace(obj) here...."
   ]
  },
  {
   "cell_type": "markdown",
   "metadata": {},
   "source": [
    "Finally, we create code to allow the user to enter the string method to select for demonstrating.\n",
    "\n",
    "First we define the following function for use in `main()` below..."
   ]
  },
  {
   "cell_type": "code",
   "execution_count": null,
   "metadata": {},
   "outputs": [],
   "source": [
    "def get_string(method):\n",
    "    arg = input(\"Enter the string s for s.{}(...): \".format(method))\n",
    "    return arg"
   ]
  },
  {
   "cell_type": "code",
   "execution_count": null,
   "metadata": {},
   "outputs": [],
   "source": [
    "# Test your get_string(obj) here....\n",
    "\n",
    "get_string('upper')"
   ]
  },
  {
   "cell_type": "markdown",
   "metadata": {},
   "source": [
    "The following `main()` method puts all of your above work together, collecting together all of the `demo_xxxx()` functions from above,\n",
    "allowing you to select and run them as an app. \n",
    "\n",
    "Finish it..."
   ]
  },
  {
   "cell_type": "code",
   "execution_count": null,
   "metadata": {},
   "outputs": [],
   "source": [
    "def main():\n",
    "    # note how we lower-case the input\n",
    "    option = input(\"Enter name of str method to demo: \").lower() \n",
    "    \n",
    "    print (\"You entered: {}\".format(option))\n",
    "\n",
    "    arg = get_string(option)\n",
    "\n",
    "    if option == \"upper\":\n",
    "        demo_upper(arg)\n",
    "    elif option == \"lower\":\n",
    "        pass\n",
    "    elif option == \"capitalize\":\n",
    "        pass\n",
    "    elif option == \"strip\":\n",
    "        pass\n",
    "    elif option == \"count\":\n",
    "        pass\n",
    "    elif option == \"center\":\n",
    "        pass\n",
    "    elif option == \"ljust\":\n",
    "        pass\n",
    "    elif option == \"find\":\n",
    "        pass\n",
    "    elif option == \"index\":\n",
    "        pass\n",
    "    elif option == \"replace\":\n",
    "        pass\n",
    "    else:\n",
    "        print (\"Invalid option: reenter...\")\n",
    "        main() # Recursive call! You can also use a while loop...\n",
    "\n",
    "main()"
   ]
  },
  {
   "cell_type": "code",
   "execution_count": null,
   "metadata": {},
   "outputs": [],
   "source": [
    "print(\"That's all, folks!\")"
   ]
  }
 ],
 "metadata": {
  "kernelspec": {
   "display_name": "Python 3",
   "language": "python",
   "name": "python3"
  },
  "language_info": {
   "codemirror_mode": {
    "name": "ipython",
    "version": 3
   },
   "file_extension": ".py",
   "mimetype": "text/x-python",
   "name": "python",
   "nbconvert_exporter": "python",
   "pygments_lexer": "ipython3",
   "version": "3.6.8"
  }
 },
 "nbformat": 4,
 "nbformat_minor": 1
}
